{
 "cells": [
  {
   "cell_type": "code",
   "execution_count": 22,
   "metadata": {},
   "outputs": [],
   "source": [
    "import numpy as np\n",
    "import matplotlib.pyplot as plt\n",
    "import pandas as pd\n",
    "from sklearn.preprocessing import minmax_scale\n",
    "from sklearn.model_selection import train_test_split\n",
    "import seaborn as sns\n",
    "import math\n"
   ]
  },
  {
   "cell_type": "code",
   "execution_count": 23,
   "metadata": {},
   "outputs": [
    {
     "data": {
      "text/html": [
       "<div>\n",
       "<style scoped>\n",
       "    .dataframe tbody tr th:only-of-type {\n",
       "        vertical-align: middle;\n",
       "    }\n",
       "\n",
       "    .dataframe tbody tr th {\n",
       "        vertical-align: top;\n",
       "    }\n",
       "\n",
       "    .dataframe thead th {\n",
       "        text-align: right;\n",
       "    }\n",
       "</style>\n",
       "<table border=\"1\" class=\"dataframe\">\n",
       "  <thead>\n",
       "    <tr style=\"text-align: right;\">\n",
       "      <th></th>\n",
       "      <th>5551.82208</th>\n",
       "    </tr>\n",
       "  </thead>\n",
       "  <tbody>\n",
       "    <tr>\n",
       "      <th>0</th>\n",
       "      <td>4983.17184</td>\n",
       "    </tr>\n",
       "    <tr>\n",
       "      <th>1</th>\n",
       "      <td>4888.39680</td>\n",
       "    </tr>\n",
       "    <tr>\n",
       "      <th>2</th>\n",
       "      <td>5072.95872</td>\n",
       "    </tr>\n",
       "    <tr>\n",
       "      <th>3</th>\n",
       "      <td>5196.25980</td>\n",
       "    </tr>\n",
       "    <tr>\n",
       "      <th>4</th>\n",
       "      <td>5641.29720</td>\n",
       "    </tr>\n",
       "  </tbody>\n",
       "</table>\n",
       "</div>"
      ],
      "text/plain": [
       "   5551.82208\n",
       "0  4983.17184\n",
       "1  4888.39680\n",
       "2  5072.95872\n",
       "3  5196.25980\n",
       "4  5641.29720"
      ]
     },
     "execution_count": 23,
     "metadata": {},
     "output_type": "execute_result"
    }
   ],
   "source": [
    "data = pd.read_excel(\"D:/ai/neural networks/power_data_inkw.xlsx\")\n",
    "data.head()"
   ]
  },
  {
   "cell_type": "code",
   "execution_count": 24,
   "metadata": {},
   "outputs": [],
   "source": [
    "data = data.rename(columns={5551.82208:'load'},inplace=False)"
   ]
  },
  {
   "cell_type": "code",
   "execution_count": 25,
   "metadata": {},
   "outputs": [
    {
     "data": {
      "text/html": [
       "<div>\n",
       "<style scoped>\n",
       "    .dataframe tbody tr th:only-of-type {\n",
       "        vertical-align: middle;\n",
       "    }\n",
       "\n",
       "    .dataframe tbody tr th {\n",
       "        vertical-align: top;\n",
       "    }\n",
       "\n",
       "    .dataframe thead th {\n",
       "        text-align: right;\n",
       "    }\n",
       "</style>\n",
       "<table border=\"1\" class=\"dataframe\">\n",
       "  <thead>\n",
       "    <tr style=\"text-align: right;\">\n",
       "      <th></th>\n",
       "      <th>load</th>\n",
       "    </tr>\n",
       "  </thead>\n",
       "  <tbody>\n",
       "    <tr>\n",
       "      <th>count</th>\n",
       "      <td>2183.000000</td>\n",
       "    </tr>\n",
       "    <tr>\n",
       "      <th>mean</th>\n",
       "      <td>6393.616060</td>\n",
       "    </tr>\n",
       "    <tr>\n",
       "      <th>std</th>\n",
       "      <td>17143.020064</td>\n",
       "    </tr>\n",
       "    <tr>\n",
       "      <th>min</th>\n",
       "      <td>3377.919600</td>\n",
       "    </tr>\n",
       "    <tr>\n",
       "      <th>25%</th>\n",
       "      <td>5257.520640</td>\n",
       "    </tr>\n",
       "    <tr>\n",
       "      <th>50%</th>\n",
       "      <td>5935.910400</td>\n",
       "    </tr>\n",
       "    <tr>\n",
       "      <th>75%</th>\n",
       "      <td>6738.692400</td>\n",
       "    </tr>\n",
       "    <tr>\n",
       "      <th>max</th>\n",
       "      <td>805444.430400</td>\n",
       "    </tr>\n",
       "  </tbody>\n",
       "</table>\n",
       "</div>"
      ],
      "text/plain": [
       "                load\n",
       "count    2183.000000\n",
       "mean     6393.616060\n",
       "std     17143.020064\n",
       "min      3377.919600\n",
       "25%      5257.520640\n",
       "50%      5935.910400\n",
       "75%      6738.692400\n",
       "max    805444.430400"
      ]
     },
     "execution_count": 25,
     "metadata": {},
     "output_type": "execute_result"
    }
   ],
   "source": [
    "data.describe()"
   ]
  },
  {
   "cell_type": "code",
   "execution_count": 26,
   "metadata": {},
   "outputs": [
    {
     "data": {
      "text/plain": [
       "load    0\n",
       "dtype: int64"
      ]
     },
     "execution_count": 26,
     "metadata": {},
     "output_type": "execute_result"
    }
   ],
   "source": [
    "\n",
    "data.isnull().sum()"
   ]
  },
  {
   "cell_type": "code",
   "execution_count": 27,
   "metadata": {},
   "outputs": [],
   "source": [
    "#checking outliners"
   ]
  },
  {
   "cell_type": "code",
   "execution_count": 28,
   "metadata": {},
   "outputs": [
    {
     "data": {
      "text/plain": [
       "<matplotlib.axes._subplots.AxesSubplot at 0x1cdd41382e0>"
      ]
     },
     "execution_count": 28,
     "metadata": {},
     "output_type": "execute_result"
    },
    {
     "data": {
      "image/png": "[encoded data removed]",
      "text/plain": [
       "<Figure size 432x288 with 1 Axes>"
      ]
     },
     "metadata": {},
     "output_type": "display_data"
    }
   ],
   "source": [
    "sns.set(style = 'darkgrid')\n",
    "sns.boxplot(data['load'])"
   ]
  },
  {
   "cell_type": "code",
   "execution_count": 29,
   "metadata": {},
   "outputs": [
    {
     "name": "stdout",
     "output_type": "stream",
     "text": [
      "(array([928], dtype=int64),)\n"
     ]
    }
   ],
   "source": [
    "from scipy import stats\n",
    "\n",
    "z = np.abs(stats.zscore(data.iloc[:,0]))\n",
    "\n",
    "threshold = 3\n",
    "print(np.where(z > 3))"
   ]
  },
  {
   "cell_type": "code",
   "execution_count": 30,
   "metadata": {},
   "outputs": [],
   "source": [
    "\n",
    "data.iloc[928,0] = data.iloc[927,0]"
   ]
  },
  {
   "cell_type": "code",
   "execution_count": 31,
   "metadata": {},
   "outputs": [
    {
     "data": {
      "text/plain": [
       "<matplotlib.axes._subplots.AxesSubplot at 0x1cdd41c77f0>"
      ]
     },
     "execution_count": 31,
     "metadata": {},
     "output_type": "execute_result"
    },
    {
     "data": {
      "image/png": "[encoded data removed]",
      "text/plain": [
       "<Figure size 432x288 with 1 Axes>"
      ]
     },
     "metadata": {},
     "output_type": "display_data"
    }
   ],
   "source": [
    "sns.set(style = 'darkgrid')\n",
    "sns.boxplot(data['load'])"
   ]
  },
  {
   "cell_type": "code",
   "execution_count": 55,
   "metadata": {},
   "outputs": [],
   "source": [
    "data_x = []\n",
    "data_x2= []\n",
    "data_y = []\n",
    "for i in range(0,len(data)-24):\n",
    "    data_x.append(data.iloc[i-1,0])\n",
    "    data_x2.append(data.iloc[i-24,0])\n",
    "    data_y.append(data.iloc[i+24,0])"
   ]
  },
  {
   "cell_type": "code",
   "execution_count": null,
   "metadata": {},
   "outputs": [],
   "source": []
  },
  {
   "cell_type": "code",
   "execution_count": 57,
   "metadata": {},
   "outputs": [
    {
     "data": {
      "image/png": "[encoded data removed]",
      "text/plain": [
       "<Figure size 432x288 with 1 Axes>"
      ]
     },
     "metadata": {},
     "output_type": "display_data"
    }
   ],
   "source": [
    "plt.scatter(data_x2,data_y)\n",
    "plt.title(\"load data visualisation\")\n",
    "plt.xlabel(\"yesterday load at ith hour\")\n",
    "plt.ylabel(\"todays load at ith hour\")\n",
    "plt.grid()"
   ]
  },
  {
   "cell_type": "code",
   "execution_count": 59,
   "metadata": {},
   "outputs": [
    {
     "name": "stdout",
     "output_type": "stream",
     "text": [
      "3377.9196\n",
      "3377.9196\n",
      "8841.66948\n",
      "8841.66948\n",
      "8841.66948\n",
      "3377.9196\n"
     ]
    }
   ],
   "source": [
    "data_xx = pd.DataFrame(data_x)\n",
    "min_x = float(data_xx.min())\n",
    "max_x = float(data_xx.max())\n",
    "data_x22=pd.DataFrame(data_x2)\n",
    "min_x2=float(data_x22.min())\n",
    "max_x2=float(data_x22.max())\n",
    "data_yy = pd.DataFrame(data_y)\n",
    "min_y = float(data_yy.min())\n",
    "max_y = float(data_yy.max())\n",
    "print(min_x)\n",
    "print(min_y)\n",
    "print(max_x)\n",
    "print(max_y)\n",
    "print(max_x2)\n",
    "print(min_x2)"
   ]
  },
  {
   "cell_type": "code",
   "execution_count": 35,
   "metadata": {},
   "outputs": [],
   "source": [
    "#data normalization"
   ]
  },
  {
   "cell_type": "code",
   "execution_count": 60,
   "metadata": {},
   "outputs": [],
   "source": [
    "x = minmax_scale(data_x)\n",
    "x2=minmax_scale(data_x2)\n",
    "y = minmax_scale(data_y)"
   ]
  },
  {
   "cell_type": "code",
   "execution_count": 61,
   "metadata": {},
   "outputs": [],
   "source": [
    "\n",
    "nmd = []\n",
    "for i in range(len(data)-24):\n",
    "  nmd.append([x[i],x2[i],y[i]])\n",
    "\n"
   ]
  },
  {
   "cell_type": "markdown",
   "metadata": {},
   "source": [
    "#splitting data\n"
   ]
  },
  {
   "cell_type": "code",
   "execution_count": 62,
   "metadata": {},
   "outputs": [],
   "source": [
    "from sklearn.model_selection import train_test_split\n",
    "data_train,data_test = train_test_split(nmd,test_size=0.1)"
   ]
  },
  {
   "cell_type": "code",
   "execution_count": 63,
   "metadata": {},
   "outputs": [],
   "source": [
    "#training the model"
   ]
  },
  {
   "cell_type": "code",
   "execution_count": 64,
   "metadata": {},
   "outputs": [],
   "source": [
    "df = pd.DataFrame(data=data_train)"
   ]
  },
  {
   "cell_type": "code",
   "execution_count": 65,
   "metadata": {},
   "outputs": [
    {
     "data": {
      "text/html": [
       "<div>\n",
       "<style scoped>\n",
       "    .dataframe tbody tr th:only-of-type {\n",
       "        vertical-align: middle;\n",
       "    }\n",
       "\n",
       "    .dataframe tbody tr th {\n",
       "        vertical-align: top;\n",
       "    }\n",
       "\n",
       "    .dataframe thead th {\n",
       "        text-align: right;\n",
       "    }\n",
       "</style>\n",
       "<table border=\"1\" class=\"dataframe\">\n",
       "  <thead>\n",
       "    <tr style=\"text-align: right;\">\n",
       "      <th></th>\n",
       "      <th>0</th>\n",
       "      <th>1</th>\n",
       "      <th>2</th>\n",
       "    </tr>\n",
       "  </thead>\n",
       "  <tbody>\n",
       "    <tr>\n",
       "      <th>0</th>\n",
       "      <td>0.897549</td>\n",
       "      <td>0.784571</td>\n",
       "      <td>0.960258</td>\n",
       "    </tr>\n",
       "    <tr>\n",
       "      <th>1</th>\n",
       "      <td>0.244786</td>\n",
       "      <td>0.197712</td>\n",
       "      <td>0.305212</td>\n",
       "    </tr>\n",
       "    <tr>\n",
       "      <th>2</th>\n",
       "      <td>0.426807</td>\n",
       "      <td>0.474566</td>\n",
       "      <td>0.477019</td>\n",
       "    </tr>\n",
       "    <tr>\n",
       "      <th>3</th>\n",
       "      <td>0.366232</td>\n",
       "      <td>0.236085</td>\n",
       "      <td>0.420245</td>\n",
       "    </tr>\n",
       "    <tr>\n",
       "      <th>4</th>\n",
       "      <td>0.330775</td>\n",
       "      <td>0.309635</td>\n",
       "      <td>0.298137</td>\n",
       "    </tr>\n",
       "    <tr>\n",
       "      <th>...</th>\n",
       "      <td>...</td>\n",
       "      <td>...</td>\n",
       "      <td>...</td>\n",
       "    </tr>\n",
       "    <tr>\n",
       "      <th>1938</th>\n",
       "      <td>0.471370</td>\n",
       "      <td>0.151579</td>\n",
       "      <td>0.442612</td>\n",
       "    </tr>\n",
       "    <tr>\n",
       "      <th>1939</th>\n",
       "      <td>0.560840</td>\n",
       "      <td>0.394682</td>\n",
       "      <td>0.436307</td>\n",
       "    </tr>\n",
       "    <tr>\n",
       "      <th>1940</th>\n",
       "      <td>0.580583</td>\n",
       "      <td>0.471370</td>\n",
       "      <td>0.452084</td>\n",
       "    </tr>\n",
       "    <tr>\n",
       "      <th>1941</th>\n",
       "      <td>0.246298</td>\n",
       "      <td>0.306468</td>\n",
       "      <td>0.379304</td>\n",
       "    </tr>\n",
       "    <tr>\n",
       "      <th>1942</th>\n",
       "      <td>0.401700</td>\n",
       "      <td>0.442498</td>\n",
       "      <td>0.796696</td>\n",
       "    </tr>\n",
       "  </tbody>\n",
       "</table>\n",
       "<p>1943 rows × 3 columns</p>\n",
       "</div>"
      ],
      "text/plain": [
       "             0         1         2\n",
       "0     0.897549  0.784571  0.960258\n",
       "1     0.244786  0.197712  0.305212\n",
       "2     0.426807  0.474566  0.477019\n",
       "3     0.366232  0.236085  0.420245\n",
       "4     0.330775  0.309635  0.298137\n",
       "...        ...       ...       ...\n",
       "1938  0.471370  0.151579  0.442612\n",
       "1939  0.560840  0.394682  0.436307\n",
       "1940  0.580583  0.471370  0.452084\n",
       "1941  0.246298  0.306468  0.379304\n",
       "1942  0.401700  0.442498  0.796696\n",
       "\n",
       "[1943 rows x 3 columns]"
      ]
     },
     "execution_count": 65,
     "metadata": {},
     "output_type": "execute_result"
    }
   ],
   "source": [
    "df"
   ]
  },
  {
   "cell_type": "code",
   "execution_count": 66,
   "metadata": {},
   "outputs": [
    {
     "data": {
      "text/plain": [
       "1943"
      ]
     },
     "execution_count": 66,
     "metadata": {},
     "output_type": "execute_result"
    }
   ],
   "source": [
    "ns = df.shape[0]\n",
    "ns"
   ]
  },
  {
   "cell_type": "code",
   "execution_count": 67,
   "metadata": {},
   "outputs": [],
   "source": [
    "#intialization\n",
    "n=0.1\n",
    "i=0 \n",
    "epochs=2500\n",
    "m1=1\n",
    "m2=1\n",
    "c=-1\n",
    "EEm1=0\n",
    "EEm2=0\n",
    "EEc=0\n",
    "expo=10**(-8)\n",
    "dm1=0\n",
    "dm2=0\n",
    "dc=0\n",
    "mome=0.9"
   ]
  },
  {
   "cell_type": "code",
   "execution_count": 68,
   "metadata": {},
   "outputs": [],
   "source": [
    "while i<epochs:\n",
    "    \n",
    "    for j in range(0,ns):\n",
    "        gm1=(-1)*(df[2][j]-m1*df[0][j]-c)*df[0][j]\n",
    "        gm2=(-1)*(df[2][j]-m2*df[1][j]-c)*df[1][j]\n",
    "        gc=(-1)*(df[2][j]-m1*df[0][j]-c)\n",
    "        \n",
    "        EEm1=mome*EEm1+(1-mome)*(gm1**2)\n",
    "        EEm2=mome*EEm2+(1-mome)*(gm2**2)\n",
    "        EEc=mome*EEc+(1-mome)*(gc**2)\n",
    "        f1 = math.sqrt(EEm1 + expo)\n",
    "        f2 = math.sqrt(EEm2 + expo)\n",
    "        f21= math.sqrt(EEc + expo)\n",
    "        dm1 = -1*(n/f1)*gm1\n",
    "        dm2=-1*(n/f2)*gm2\n",
    "        dc = -1*(n/f21)*gc\n",
    "       \n",
    "        m1=m1+dm1\n",
    "        m2=m2+dm2\n",
    "        c=c+dc\n",
    "    \n",
    "    i=i+1"
   ]
  },
  {
   "cell_type": "code",
   "execution_count": 69,
   "metadata": {},
   "outputs": [
    {
     "name": "stdout",
     "output_type": "stream",
     "text": [
      "0.7064174518669655 0.7719410441240041 0.3751768050812824\n"
     ]
    }
   ],
   "source": [
    "print(m1,m2,c)"
   ]
  },
  {
   "cell_type": "code",
   "execution_count": 70,
   "metadata": {},
   "outputs": [],
   "source": [
    "df['yp']=np.nan"
   ]
  },
  {
   "cell_type": "code",
   "execution_count": 71,
   "metadata": {},
   "outputs": [],
   "source": [
    "for i in range(0,ns):\n",
    "    df['yp'][i]=m1*df[0][i]+m2*df[1][i]+c\n"
   ]
  },
  {
   "cell_type": "code",
   "execution_count": 72,
   "metadata": {},
   "outputs": [
    {
     "data": {
      "text/html": [
       "<div>\n",
       "<style scoped>\n",
       "    .dataframe tbody tr th:only-of-type {\n",
       "        vertical-align: middle;\n",
       "    }\n",
       "\n",
       "    .dataframe tbody tr th {\n",
       "        vertical-align: top;\n",
       "    }\n",
       "\n",
       "    .dataframe thead th {\n",
       "        text-align: right;\n",
       "    }\n",
       "</style>\n",
       "<table border=\"1\" class=\"dataframe\">\n",
       "  <thead>\n",
       "    <tr style=\"text-align: right;\">\n",
       "      <th></th>\n",
       "      <th>0</th>\n",
       "      <th>1</th>\n",
       "      <th>2</th>\n",
       "      <th>yp</th>\n",
       "    </tr>\n",
       "  </thead>\n",
       "  <tbody>\n",
       "    <tr>\n",
       "      <th>0</th>\n",
       "      <td>0.897549</td>\n",
       "      <td>0.784571</td>\n",
       "      <td>0.960258</td>\n",
       "      <td>1.614864</td>\n",
       "    </tr>\n",
       "    <tr>\n",
       "      <th>1</th>\n",
       "      <td>0.244786</td>\n",
       "      <td>0.197712</td>\n",
       "      <td>0.305212</td>\n",
       "      <td>0.700720</td>\n",
       "    </tr>\n",
       "    <tr>\n",
       "      <th>2</th>\n",
       "      <td>0.426807</td>\n",
       "      <td>0.474566</td>\n",
       "      <td>0.477019</td>\n",
       "      <td>1.043017</td>\n",
       "    </tr>\n",
       "    <tr>\n",
       "      <th>3</th>\n",
       "      <td>0.366232</td>\n",
       "      <td>0.236085</td>\n",
       "      <td>0.420245</td>\n",
       "      <td>0.816133</td>\n",
       "    </tr>\n",
       "    <tr>\n",
       "      <th>4</th>\n",
       "      <td>0.330775</td>\n",
       "      <td>0.309635</td>\n",
       "      <td>0.298137</td>\n",
       "      <td>0.847862</td>\n",
       "    </tr>\n",
       "    <tr>\n",
       "      <th>...</th>\n",
       "      <td>...</td>\n",
       "      <td>...</td>\n",
       "      <td>...</td>\n",
       "      <td>...</td>\n",
       "    </tr>\n",
       "    <tr>\n",
       "      <th>1938</th>\n",
       "      <td>0.471370</td>\n",
       "      <td>0.151579</td>\n",
       "      <td>0.442612</td>\n",
       "      <td>0.825171</td>\n",
       "    </tr>\n",
       "    <tr>\n",
       "      <th>1939</th>\n",
       "      <td>0.560840</td>\n",
       "      <td>0.394682</td>\n",
       "      <td>0.436307</td>\n",
       "      <td>1.076035</td>\n",
       "    </tr>\n",
       "    <tr>\n",
       "      <th>1940</th>\n",
       "      <td>0.580583</td>\n",
       "      <td>0.471370</td>\n",
       "      <td>0.452084</td>\n",
       "      <td>1.149181</td>\n",
       "    </tr>\n",
       "    <tr>\n",
       "      <th>1941</th>\n",
       "      <td>0.246298</td>\n",
       "      <td>0.306468</td>\n",
       "      <td>0.379304</td>\n",
       "      <td>0.785741</td>\n",
       "    </tr>\n",
       "    <tr>\n",
       "      <th>1942</th>\n",
       "      <td>0.401700</td>\n",
       "      <td>0.442498</td>\n",
       "      <td>0.796696</td>\n",
       "      <td>1.000527</td>\n",
       "    </tr>\n",
       "  </tbody>\n",
       "</table>\n",
       "<p>1943 rows × 4 columns</p>\n",
       "</div>"
      ],
      "text/plain": [
       "             0         1         2        yp\n",
       "0     0.897549  0.784571  0.960258  1.614864\n",
       "1     0.244786  0.197712  0.305212  0.700720\n",
       "2     0.426807  0.474566  0.477019  1.043017\n",
       "3     0.366232  0.236085  0.420245  0.816133\n",
       "4     0.330775  0.309635  0.298137  0.847862\n",
       "...        ...       ...       ...       ...\n",
       "1938  0.471370  0.151579  0.442612  0.825171\n",
       "1939  0.560840  0.394682  0.436307  1.076035\n",
       "1940  0.580583  0.471370  0.452084  1.149181\n",
       "1941  0.246298  0.306468  0.379304  0.785741\n",
       "1942  0.401700  0.442498  0.796696  1.000527\n",
       "\n",
       "[1943 rows x 4 columns]"
      ]
     },
     "execution_count": 72,
     "metadata": {},
     "output_type": "execute_result"
    }
   ],
   "source": [
    "df"
   ]
  },
  {
   "cell_type": "code",
   "execution_count": 73,
   "metadata": {},
   "outputs": [],
   "source": [
    "from sklearn.metrics import mean_squared_error"
   ]
  },
  {
   "cell_type": "code",
   "execution_count": 74,
   "metadata": {},
   "outputs": [],
   "source": [
    "mse_train = mean_squared_error(df[1],df['yp'])"
   ]
  },
  {
   "cell_type": "code",
   "execution_count": 76,
   "metadata": {},
   "outputs": [
    {
     "data": {
      "text/plain": [
       "0.38291522501762737"
      ]
     },
     "execution_count": 76,
     "metadata": {},
     "output_type": "execute_result"
    }
   ],
   "source": [
    "mse_train"
   ]
  },
  {
   "cell_type": "code",
   "execution_count": null,
   "metadata": {},
   "outputs": [],
   "source": []
  },
  {
   "cell_type": "code",
   "execution_count": 77,
   "metadata": {},
   "outputs": [],
   "source": [
    "df = pd.DataFrame(data=data_test)\n",
    "ns=df.shape[0]"
   ]
  },
  {
   "cell_type": "code",
   "execution_count": 78,
   "metadata": {},
   "outputs": [
    {
     "data": {
      "text/html": [
       "<div>\n",
       "<style scoped>\n",
       "    .dataframe tbody tr th:only-of-type {\n",
       "        vertical-align: middle;\n",
       "    }\n",
       "\n",
       "    .dataframe tbody tr th {\n",
       "        vertical-align: top;\n",
       "    }\n",
       "\n",
       "    .dataframe thead th {\n",
       "        text-align: right;\n",
       "    }\n",
       "</style>\n",
       "<table border=\"1\" class=\"dataframe\">\n",
       "  <thead>\n",
       "    <tr style=\"text-align: right;\">\n",
       "      <th></th>\n",
       "      <th>0</th>\n",
       "      <th>1</th>\n",
       "      <th>2</th>\n",
       "      <th>yp</th>\n",
       "    </tr>\n",
       "  </thead>\n",
       "  <tbody>\n",
       "    <tr>\n",
       "      <th>0</th>\n",
       "      <td>0.333971</td>\n",
       "      <td>0.321531</td>\n",
       "      <td>0.404867</td>\n",
       "      <td>0.859303</td>\n",
       "    </tr>\n",
       "    <tr>\n",
       "      <th>1</th>\n",
       "      <td>0.343557</td>\n",
       "      <td>0.161422</td>\n",
       "      <td>0.580583</td>\n",
       "      <td>0.742479</td>\n",
       "    </tr>\n",
       "    <tr>\n",
       "      <th>2</th>\n",
       "      <td>0.657984</td>\n",
       "      <td>0.603891</td>\n",
       "      <td>0.583721</td>\n",
       "      <td>1.306157</td>\n",
       "    </tr>\n",
       "    <tr>\n",
       "      <th>3</th>\n",
       "      <td>0.342073</td>\n",
       "      <td>0.284443</td>\n",
       "      <td>0.494080</td>\n",
       "      <td>0.836396</td>\n",
       "    </tr>\n",
       "    <tr>\n",
       "      <th>4</th>\n",
       "      <td>0.373770</td>\n",
       "      <td>0.512311</td>\n",
       "      <td>0.442498</td>\n",
       "      <td>1.034688</td>\n",
       "    </tr>\n",
       "    <tr>\n",
       "      <th>...</th>\n",
       "      <td>...</td>\n",
       "      <td>...</td>\n",
       "      <td>...</td>\n",
       "      <td>...</td>\n",
       "    </tr>\n",
       "    <tr>\n",
       "      <th>211</th>\n",
       "      <td>0.295626</td>\n",
       "      <td>0.414139</td>\n",
       "      <td>0.334969</td>\n",
       "      <td>0.903704</td>\n",
       "    </tr>\n",
       "    <tr>\n",
       "      <th>212</th>\n",
       "      <td>0.974352</td>\n",
       "      <td>0.516818</td>\n",
       "      <td>0.569313</td>\n",
       "      <td>1.462429</td>\n",
       "    </tr>\n",
       "    <tr>\n",
       "      <th>213</th>\n",
       "      <td>0.392428</td>\n",
       "      <td>0.442612</td>\n",
       "      <td>0.451799</td>\n",
       "      <td>0.994065</td>\n",
       "    </tr>\n",
       "    <tr>\n",
       "      <th>214</th>\n",
       "      <td>0.300562</td>\n",
       "      <td>0.074891</td>\n",
       "      <td>0.139055</td>\n",
       "      <td>0.645310</td>\n",
       "    </tr>\n",
       "    <tr>\n",
       "      <th>215</th>\n",
       "      <td>0.390831</td>\n",
       "      <td>0.461756</td>\n",
       "      <td>0.370318</td>\n",
       "      <td>1.007714</td>\n",
       "    </tr>\n",
       "  </tbody>\n",
       "</table>\n",
       "<p>216 rows × 4 columns</p>\n",
       "</div>"
      ],
      "text/plain": [
       "            0         1         2        yp\n",
       "0    0.333971  0.321531  0.404867  0.859303\n",
       "1    0.343557  0.161422  0.580583  0.742479\n",
       "2    0.657984  0.603891  0.583721  1.306157\n",
       "3    0.342073  0.284443  0.494080  0.836396\n",
       "4    0.373770  0.512311  0.442498  1.034688\n",
       "..        ...       ...       ...       ...\n",
       "211  0.295626  0.414139  0.334969  0.903704\n",
       "212  0.974352  0.516818  0.569313  1.462429\n",
       "213  0.392428  0.442612  0.451799  0.994065\n",
       "214  0.300562  0.074891  0.139055  0.645310\n",
       "215  0.390831  0.461756  0.370318  1.007714\n",
       "\n",
       "[216 rows x 4 columns]"
      ]
     },
     "execution_count": 78,
     "metadata": {},
     "output_type": "execute_result"
    }
   ],
   "source": [
    "df['yp']=np.nan\n",
    "for i in range(0,ns):\n",
    "    df['yp'][i]=m1*df[0][i]+m2*df[1][i]+c\n",
    "df"
   ]
  },
  {
   "cell_type": "code",
   "execution_count": null,
   "metadata": {},
   "outputs": [],
   "source": [
    "\n"
   ]
  },
  {
   "cell_type": "code",
   "execution_count": 82,
   "metadata": {},
   "outputs": [
    {
     "name": "stdout",
     "output_type": "stream",
     "text": [
      "enter load at one day before : 4456.65\n",
      "enter load at one hour before : 4662.3\n",
      "predicted load for this hour  :  7181.291751189479\n"
     ]
    }
   ],
   "source": [
    "input_load = float(input(\"enter load at one day before : \"))\n",
    "input_load2 = float(input(\"enter load at one hour before : \"))\n",
    "input_load = (input_load - min_x)/(max_x-min_x)\n",
    "input_load2 = (input_load2 - min_x2)/(max_x2-min_x2)\n",
    "output_load = (input_load*m1) + (input_load2*m2) +c\n",
    "\n",
    "output_load = output_load*(max_y-min_y)+min_y\n",
    "\n",
    "print(\"predicted load for this hour  : \",output_load)"
   ]
  },
  {
   "cell_type": "code",
   "execution_count": null,
   "metadata": {},
   "outputs": [],
   "source": []
  }
 ],
 "metadata": {
  "kernelspec": {
   "display_name": "Python 3",
   "language": "python",
   "name": "python3"
  },
  "language_info": {
   "codemirror_mode": {
    "name": "ipython",
    "version": 3
   },
   "file_extension": ".py",
   "mimetype": "text/x-python",
   "name": "python",
   "nbconvert_exporter": "python",
   "pygments_lexer": "ipython3",
   "version": "3.8.3"
  }
 },
 "nbformat": 4,
 "nbformat_minor": 4
}
