{
 "cells": [
  {
   "cell_type": "code",
   "execution_count": 40,
   "metadata": {},
   "outputs": [],
   "source": [
    "import pandas as pd\n",
    "import numpy as np\n",
    "import matplotlib.pyplot as plt\n",
    "d=pd.read_csv('D:/ai/neural networks/data.csv')"
   ]
  },
  {
   "cell_type": "code",
   "execution_count": 2,
   "metadata": {},
   "outputs": [],
   "source": [
    "df = pd.DataFrame(data=d)"
   ]
  },
  {
   "cell_type": "code",
   "execution_count": 3,
   "metadata": {},
   "outputs": [],
   "source": [
    "ns = df.shape[0]\n"
   ]
  },
  {
   "cell_type": "code",
   "execution_count": 4,
   "metadata": {},
   "outputs": [
    {
     "data": {
      "text/plain": [
       "2.0"
      ]
     },
     "execution_count": 4,
     "metadata": {},
     "output_type": "execute_result"
    }
   ],
   "source": [
    "bs = 2\n",
    "nb = np.ceil(len(df)/bs)\n",
    "nb"
   ]
  },
  {
   "cell_type": "code",
   "execution_count": 119,
   "metadata": {},
   "outputs": [
    {
     "data": {
      "text/plain": [
       "array([2, 3, 0, 1])"
      ]
     },
     "execution_count": 119,
     "metadata": {},
     "output_type": "execute_result"
    }
   ],
   "source": [
    "\n",
    "import random\n",
    "s = np.arange(len(df))\n",
    "random.shuffle(s)\n",
    "s"
   ]
  },
  {
   "cell_type": "code",
   "execution_count": 120,
   "metadata": {},
   "outputs": [
    {
     "name": "stdout",
     "output_type": "stream",
     "text": [
      "0.6 4.2\n",
      "0.8 4.6\n",
      "0.2 3.4\n",
      "0.4 3.8\n"
     ]
    }
   ],
   "source": [
    "for i in s:\n",
    "    print(df['x'][i],df['y'][i])"
   ]
  },
  {
   "cell_type": "code",
   "execution_count": 167,
   "metadata": {},
   "outputs": [],
   "source": [
    "#intialization\n",
    "n=0.1\n",
    "i=0 \n",
    "epochs=150\n",
    "m=1\n",
    "c=-1\n",
    "batch=nb-1\n",
    "bt=1\n",
    "\n",
    "\n"
   ]
  },
  {
   "cell_type": "code",
   "execution_count": null,
   "metadata": {},
   "outputs": [],
   "source": []
  },
  {
   "cell_type": "code",
   "execution_count": 168,
   "metadata": {},
   "outputs": [
    {
     "name": "stdout",
     "output_type": "stream",
     "text": [
      "2.6614246181897636 2.558487867111308\n"
     ]
    }
   ],
   "source": [
    "while i<epochs:\n",
    "    j = 0\n",
    "  # RUNNING ITERATION FOR N-1 BATCHES\n",
    "    while (bt <= batch):\n",
    "        der_m = 0\n",
    "        der_c = 0\n",
    "        err = 0\n",
    "        for k in range(0,bs):\n",
    "            der_m = der_m + (df['y'][s[j]] - (m*df['x'][s[j]])-c)*(df['x'][s[j]])\n",
    "            der_c = der_c + (df['y'][s[j]] - (m*df['x'][s[j]])-c)\n",
    "            j = j+1\n",
    "      \n",
    "  \n",
    "    \n",
    "        der_m = (1/bs)*der_m\n",
    "        der_c = (1/bs)*der_c\n",
    "        change_m = (-1)*n*der_m\n",
    "        change_c = (-1)*n*der_c\n",
    "    \n",
    "        m = m + change_m\n",
    "        c = c + change_c\n",
    "        bt = bt + 1\n",
    "    \n",
    " \n",
    "  # EXECUTING FOR LAST BATCH\n",
    "    der_m = 0\n",
    "    der_c = 0\n",
    "    err = 0\n",
    "  # FINDING REMAINING NUMBER OF BATCHES\n",
    "    es = len(s) - j  \n",
    "  \n",
    "    for k in range(j,len(s)):\n",
    "        der_m = der_m + (df['y'][s[j]] - (m*df['x'][s[j]])-c)*(df['x'][s[j]])\n",
    "        der_c = der_c + (df['y'][s[j]] - (m*df['x'][s[j]])-c)\n",
    "        j = j + 1\n",
    "        der_m = (-1/es)*der_m\n",
    "        der_c = (-1/es)*der_c\n",
    "    \n",
    "    change_m = (-1)*n*der_m\n",
    "    change_c = (-1)*n*der_c\n",
    "  \n",
    "    m = m + change_m\n",
    "    c = c + change_c\n",
    "  \n",
    "    i = i + 1\n",
    "\n",
    "        \n",
    "    \n",
    "  \n",
    "print(m,c)"
   ]
  },
  {
   "cell_type": "code",
   "execution_count": 169,
   "metadata": {},
   "outputs": [],
   "source": [
    "df['yp']=np.nan"
   ]
  },
  {
   "cell_type": "code",
   "execution_count": 170,
   "metadata": {},
   "outputs": [],
   "source": [
    "for i in range(0,ns):\n",
    "    df['yp'][i]=m*df['x'][i]+c"
   ]
  },
  {
   "cell_type": "code",
   "execution_count": 171,
   "metadata": {},
   "outputs": [
    {
     "data": {
      "text/html": [
       "<div>\n",
       "<style scoped>\n",
       "    .dataframe tbody tr th:only-of-type {\n",
       "        vertical-align: middle;\n",
       "    }\n",
       "\n",
       "    .dataframe tbody tr th {\n",
       "        vertical-align: top;\n",
       "    }\n",
       "\n",
       "    .dataframe thead th {\n",
       "        text-align: right;\n",
       "    }\n",
       "</style>\n",
       "<table border=\"1\" class=\"dataframe\">\n",
       "  <thead>\n",
       "    <tr style=\"text-align: right;\">\n",
       "      <th></th>\n",
       "      <th>x</th>\n",
       "      <th>y</th>\n",
       "      <th>yp</th>\n",
       "    </tr>\n",
       "  </thead>\n",
       "  <tbody>\n",
       "    <tr>\n",
       "      <th>0</th>\n",
       "      <td>0.2</td>\n",
       "      <td>3.4</td>\n",
       "      <td>3.090773</td>\n",
       "    </tr>\n",
       "    <tr>\n",
       "      <th>1</th>\n",
       "      <td>0.4</td>\n",
       "      <td>3.8</td>\n",
       "      <td>3.623058</td>\n",
       "    </tr>\n",
       "    <tr>\n",
       "      <th>2</th>\n",
       "      <td>0.6</td>\n",
       "      <td>4.2</td>\n",
       "      <td>4.155343</td>\n",
       "    </tr>\n",
       "    <tr>\n",
       "      <th>3</th>\n",
       "      <td>0.8</td>\n",
       "      <td>4.6</td>\n",
       "      <td>4.687628</td>\n",
       "    </tr>\n",
       "  </tbody>\n",
       "</table>\n",
       "</div>"
      ],
      "text/plain": [
       "     x    y        yp\n",
       "0  0.2  3.4  3.090773\n",
       "1  0.4  3.8  3.623058\n",
       "2  0.6  4.2  4.155343\n",
       "3  0.8  4.6  4.687628"
      ]
     },
     "execution_count": 171,
     "metadata": {},
     "output_type": "execute_result"
    }
   ],
   "source": [
    "df"
   ]
  },
  {
   "cell_type": "code",
   "execution_count": 172,
   "metadata": {},
   "outputs": [
    {
     "data": {
      "text/plain": [
       "0.034150727230113045"
      ]
     },
     "execution_count": 172,
     "metadata": {},
     "output_type": "execute_result"
    }
   ],
   "source": [
    "mse = 0\n",
    "for i in range(0,len(df)):\n",
    "  mse += (df['y'][i] -df['yp'][i])**2\n",
    "mse = (1/len(df))*mse\n",
    "mse"
   ]
  },
  {
   "cell_type": "code",
   "execution_count": 173,
   "metadata": {},
   "outputs": [
    {
     "data": {
      "image/png": "[encoded data removed]",
      "text/plain": [
       "<Figure size 432x288 with 1 Axes>"
      ]
     },
     "metadata": {
      "needs_background": "light"
     },
     "output_type": "display_data"
    }
   ],
   "source": [
    "plt.scatter(df['x'],df['y'],label='Original Data Points')\n",
    "plt.plot(df['x'],df['yp'],'red',label='Predicted Regression Line')\n",
    "plt.legend()\n",
    "plt.title(\"Linear Regression using Mini Batch Gradient Descent\")\n",
    "plt.xlabel(\"DATA X\")\n",
    "plt.ylabel(\"DATA Y\")\n",
    "plt.grid()"
   ]
  },
  {
   "cell_type": "code",
   "execution_count": null,
   "metadata": {},
   "outputs": [],
   "source": []
  }
 ],
 "metadata": {
  "kernelspec": {
   "display_name": "Python 3",
   "language": "python",
   "name": "python3"
  },
  "language_info": {
   "codemirror_mode": {
    "name": "ipython",
    "version": 3
   },
   "file_extension": ".py",
   "mimetype": "text/x-python",
   "name": "python",
   "nbconvert_exporter": "python",
   "pygments_lexer": "ipython3",
   "version": "3.8.3"
  }
 },
 "nbformat": 4,
 "nbformat_minor": 4
}
