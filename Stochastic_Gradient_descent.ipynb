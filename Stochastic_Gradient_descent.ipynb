{
 "cells": [
  {
   "cell_type": "code",
   "execution_count": 35,
   "metadata": {},
   "outputs": [],
   "source": [
    "import pandas as pd\n",
    "import numpy as np\n",
    "\n",
    "d=pd.read_csv('D:/ai/neural networks/data.csv')"
   ]
  },
  {
   "cell_type": "code",
   "execution_count": 36,
   "metadata": {},
   "outputs": [],
   "source": [
    "df = pd.DataFrame(data=d)"
   ]
  },
  {
   "cell_type": "code",
   "execution_count": 37,
   "metadata": {},
   "outputs": [],
   "source": [
    "ns = df.shape[0]\n"
   ]
  },
  {
   "cell_type": "code",
   "execution_count": 39,
   "metadata": {},
   "outputs": [
    {
     "name": "stdout",
     "output_type": "stream",
     "text": [
      "2.059609333199693 2.9667744236474243\n"
     ]
    }
   ],
   "source": [
    "n=0.1\n",
    "i=0 \n",
    "epochs=150\n",
    "m=1\n",
    "c=-1\n",
    "while i<epochs:\n",
    "    for j in range(0,ns):\n",
    "        \n",
    "        e=(0.5)*((df['y'][j] - (m * df['x'][j]) - c))**2\n",
    "        dm=(-1)*(df['y'][j]-m*df['x'][j]-c)*(df['x'][j])\n",
    "        dc=(-1)*(df['y'][j]-m*df['x'][j]-c)\n",
    "        ddm=(-1)*n*dm\n",
    "        ddc=(-1)*n*dc\n",
    "        m=m+ddm\n",
    "        c=c+ddc\n",
    "    i=i+1\n",
    "    \n",
    "print(m,c)       \n"
   ]
  },
  {
   "cell_type": "code",
   "execution_count": 40,
   "metadata": {},
   "outputs": [
    {
     "data": {
      "text/plain": [
       "0.00018936625376192272"
      ]
     },
     "execution_count": 40,
     "metadata": {},
     "output_type": "execute_result"
    }
   ],
   "source": [
    "mse = 0\n",
    "for i in range(0,ns):\n",
    "  mse += (df['y'][i] - (m*df['x'][i]) - c)**2\n",
    "mse = mse/ns\n",
    "mse"
   ]
  },
  {
   "cell_type": "code",
   "execution_count": null,
   "metadata": {},
   "outputs": [],
   "source": []
  }
 ],
 "metadata": {
  "kernelspec": {
   "display_name": "Python 3",
   "language": "python",
   "name": "python3"
  },
  "language_info": {
   "codemirror_mode": {
    "name": "ipython",
    "version": 3
   },
   "file_extension": ".py",
   "mimetype": "text/x-python",
   "name": "python",
   "nbconvert_exporter": "python",
   "pygments_lexer": "ipython3",
   "version": "3.8.3"
  }
 },
 "nbformat": 4,
 "nbformat_minor": 4
}
