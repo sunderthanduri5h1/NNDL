{
 "cells": [
  {
   "cell_type": "code",
   "execution_count": 22,
   "metadata": {},
   "outputs": [
    {
     "name": "stdout",
     "output_type": "stream",
     "text": [
      "1st Order derivative is 4*x**3 + 6*x\n",
      "The global minimum point and global minimum value are  0 10\n"
     ]
    }
   ],
   "source": [
    "# import sympy \n",
    "from sympy import *\n",
    "\n",
    "x = Symbol('x') \n",
    "f = x**4 + 3*x**2 + 10\n",
    "n=-0.001\n",
    "i=0\n",
    "max_r=150\n",
    "r=5\n",
    "\n",
    "d =  f.diff(x)\n",
    "print(\"1st Order derivative is\",d)\n",
    "\n",
    "d = lambdify(x, d)\n",
    "f = lambdify(x, f)\n",
    "\n",
    "while i<max_r:\n",
    "    r=r+(n*d(r))\n",
    "    i=i+1\n",
    "else:\n",
    "    min_val=int(f(r))\n",
    "    min_point=int(r)\n",
    "    print(\"The global minimum point and global minimum value are \",min_point,min_val)"
   ]
  },
  {
   "cell_type": "code",
   "execution_count": null,
   "metadata": {},
   "outputs": [],
   "source": []
  }
 ],
 "metadata": {
  "kernelspec": {
   "display_name": "Python 3",
   "language": "python",
   "name": "python3"
  },
  "language_info": {
   "codemirror_mode": {
    "name": "ipython",
    "version": 3
   },
   "file_extension": ".py",
   "mimetype": "text/x-python",
   "name": "python",
   "nbconvert_exporter": "python",
   "pygments_lexer": "ipython3",
   "version": "3.7.4"
  }
 },
 "nbformat": 4,
 "nbformat_minor": 2
}
